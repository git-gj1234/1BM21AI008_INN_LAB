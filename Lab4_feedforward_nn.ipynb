{
 "cells": [
  {
   "cell_type": "code",
   "execution_count": 12,
   "metadata": {},
   "outputs": [],
   "source": [
    "import numpy as np\n",
    "def sigmoid( x):\n",
    "        return 1/(1 + np.exp(-x))\n",
    "def sigmoid_derivative( x):\n",
    "    return sigmoid(x)*(1-sigmoid(x))\n",
    "def initialize_weights(input_size, hidden_size, output_size):\n",
    "      np.random.seed(42)\n",
    "      weights_input_hidden = np.random.rand(input_size, hidden_size)\n",
    "      weights_hidden_output = np.random.rand(hidden_size, output_size)\n",
    "      return weights_input_hidden, weights_hidden_output\n",
    "def calculate_loss(predictions, targets):\n",
    "      return np.mean((targets-predictions)**2)\n",
    "def forward_pass(inputs, weights_input_hidden, weights_hidden_output):\n",
    "      hidden_layer_input = np.dot(inputs, weights_input_hidden)\n",
    "      hidden_layer_output = sigmoid(hidden_layer_input)\n",
    "\n",
    "      output_layer_input = np.dot(hidden_layer_output, weights_hidden_output)\n",
    "      output_layer_output = sigmoid(output_layer_input)\n",
    "\n",
    "      return hidden_layer_output, output_layer_output\n",
    "def backward_prop(inputs, targets, weights_input_hidden, weights_hidden_output, learning_rate, hidden_layer_output, output_layer_output):\n",
    "      output_error = targets - output_layer_output\n",
    "      output_delta = output_error*(sigmoid_derivative(output_layer_output))\n",
    "\n",
    "      hidden_error = output_delta.dot(weights_hidden_output.T)\n",
    "      hidden_delta = hidden_error*(sigmoid_derivative(hidden_layer_output))\n",
    "\n",
    "      weights_hidden_output += hidden_layer_output.T.dot(output_delta)*learning_rate\n",
    "      weights_input_hidden += inputs.T.dot(sigmoid_derivative(hidden_delta))*learning_rate\n",
    "\n",
    "def train_nn(inputs, target, hidden_size, output_size, learning_rate, epochs):\n",
    "    weights_input_hidden, weights_hidden_output = initialize_weights(inputs.shape[1], hidden_size, output_size)\n",
    "    for epoch in range(epochs):\n",
    "        hidden_layer_output, output_layer_output = forward_pass(inputs, weights_input_hidden, weights_hidden_output)\n",
    "        backward_prop(inputs, target, weights_input_hidden, weights_hidden_output, learning_rate, hidden_layer_output, output_layer_output)\n",
    "        loss = calculate_loss(output_layer_output, target)\n",
    "        if(epoch % 1000 == 0):\n",
    "              print(f\"Epoch: {epoch}, Loss: {loss}\")\n",
    "    \n",
    "    return weights_input_hidden, weights_hidden_output"
   ]
  },
  {
   "cell_type": "code",
   "execution_count": 13,
   "metadata": {},
   "outputs": [
    {
     "name": "stdout",
     "output_type": "stream",
     "text": [
      "Epoch: 0, Loss: 0.1680709485899095\n",
      "Epoch: 1000, Loss: 0.14366427945165577\n",
      "Epoch: 2000, Loss: 0.14304914095911775\n",
      "Epoch: 3000, Loss: 0.1430275908043642\n",
      "Epoch: 4000, Loss: 0.14302677423651097\n",
      "Epoch: 5000, Loss: 0.14302674287121278\n",
      "Epoch: 6000, Loss: 0.14302674166366433\n",
      "Epoch: 7000, Loss: 0.14302674161715587\n",
      "Epoch: 8000, Loss: 0.1430267416153644\n",
      "Epoch: 9000, Loss: 0.14302674161529547\n"
     ]
    }
   ],
   "source": [
    "inputs = np.array([[0, 0], [0, 1], [1, 0], [1,1]])\n",
    "targets = np.array([[0], [1], [1], [1]])\n",
    "\n",
    "hidden_size = 4\n",
    "output_size = 1\n",
    "learning_rate = 0.01\n",
    "epochs = 10000\n",
    "\n",
    "trained_weights_input_hidden, trained_weights_hidden_output = train_nn(inputs, targets, hidden_size, output_size, learning_rate, epochs)"
   ]
  },
  {
   "cell_type": "code",
   "execution_count": 15,
   "metadata": {},
   "outputs": [
    {
     "name": "stdout",
     "output_type": "stream",
     "text": [
      "[[50.37445516 50.95058297 50.73199196 50.59838592]\n",
      " [50.15593298 50.15586182 50.05808163 50.86590241]] \n",
      " [[ 0.49382384]\n",
      " [ 0.61711644]\n",
      " [-0.07952112]\n",
      " [ 0.8912086 ]]\n"
     ]
    }
   ],
   "source": [
    "print(trained_weights_input_hidden,\"\\n\", trained_weights_hidden_output)"
   ]
  }
 ],
 "metadata": {
  "kernelspec": {
   "display_name": "cuda_compute",
   "language": "python",
   "name": "python3"
  },
  "language_info": {
   "codemirror_mode": {
    "name": "ipython",
    "version": 3
   },
   "file_extension": ".py",
   "mimetype": "text/x-python",
   "name": "python",
   "nbconvert_exporter": "python",
   "pygments_lexer": "ipython3",
   "version": "3.9.18"
  }
 },
 "nbformat": 4,
 "nbformat_minor": 2
}
