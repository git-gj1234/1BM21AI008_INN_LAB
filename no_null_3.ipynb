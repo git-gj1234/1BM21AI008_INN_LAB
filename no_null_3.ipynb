{
 "cells": [
  {
   "cell_type": "code",
   "execution_count": 8,
   "metadata": {},
   "outputs": [
    {
     "data": {
      "text/plain": [
       "Species\n",
       "0    50\n",
       "1    50\n",
       "2    50\n",
       "Name: count, dtype: int64"
      ]
     },
     "execution_count": 8,
     "metadata": {},
     "output_type": "execute_result"
    }
   ],
   "source": [
    "import pandas as pd\n",
    "from sklearn.preprocessing import LabelEncoder\n",
    "from sklearn.model_selection import train_test_split\n",
    "df = pd.read_csv(\"Iris.csv\", index_col=0)\n",
    "encoded_df = df\n",
    "encoded_df[\"Species\"] = LabelEncoder().fit_transform(df[\"Species\"])\n",
    "encoded_df[\"Species\"].value_counts()"
   ]
  },
  {
   "cell_type": "code",
   "execution_count": 12,
   "metadata": {},
   "outputs": [
    {
     "name": "stdout",
     "output_type": "stream",
     "text": [
      "Species\n",
      "2    40\n",
      "1    40\n",
      "0    40\n",
      "Name: count, dtype: int64\n",
      "Species\n",
      "0    10\n",
      "2    10\n",
      "1    10\n",
      "Name: count, dtype: int64\n"
     ]
    }
   ],
   "source": [
    "X, y = df.drop([\"Species\"], axis=1), df[\"Species\"]\n",
    "X_train, X_test, y_train, y_test = train_test_split(X, y, test_size=0.2, stratify=y)\n",
    "print(y_train.value_counts())\n",
    "print(y_test.value_counts())"
   ]
  },
  {
   "cell_type": "code",
   "execution_count": 55,
   "metadata": {},
   "outputs": [
    {
     "name": "stdout",
     "output_type": "stream",
     "text": [
      "5\n",
      "4\n",
      "7\n",
      "10\n",
      "0\n"
     ]
    }
   ],
   "source": [
    "import random\n",
    "a = list(df.columns)\n",
    "a.pop()\n",
    "b = len(df)\n",
    "df2 = df.copy()\n",
    "for i in range(27):\n",
    "    df2.loc[(random.randint(0, b-1),random.choice(a))] = pd.NA\n",
    "df2\n",
    "for x in df2.columns:\n",
    "    print(df[x].isna().sum())"
   ]
  },
  {
   "cell_type": "code",
   "execution_count": 40,
   "metadata": {},
   "outputs": [
    {
     "name": "stdout",
     "output_type": "stream",
     "text": [
      "SepalLengthCm\n",
      "SepalLengthCm\n",
      "PetalLengthCm\n",
      "PetalWidthCm\n",
      "PetalWidthCm\n",
      "PetalWidthCm\n",
      "PetalWidthCm\n",
      "PetalLengthCm\n",
      "PetalWidthCm\n",
      "SepalLengthCm\n"
     ]
    }
   ],
   "source": [
    "for i in range(10):\n",
    "    print(a[random.randint(0,len(a)-1)])"
   ]
  },
  {
   "cell_type": "code",
   "execution_count": 41,
   "metadata": {},
   "outputs": [
    {
     "name": "stdout",
     "output_type": "stream",
     "text": [
      "SepalLengthCm\n"
     ]
    }
   ],
   "source": [
    "print(random.choice(a))"
   ]
  },
  {
   "cell_type": "code",
   "execution_count": null,
   "metadata": {},
   "outputs": [],
   "source": []
  }
 ],
 "metadata": {
  "kernelspec": {
   "display_name": "GG_1267",
   "language": "python",
   "name": "python3"
  },
  "language_info": {
   "codemirror_mode": {
    "name": "ipython",
    "version": 3
   },
   "file_extension": ".py",
   "mimetype": "text/x-python",
   "name": "python",
   "nbconvert_exporter": "python",
   "pygments_lexer": "ipython3",
   "version": "3.9.18"
  },
  "orig_nbformat": 4
 },
 "nbformat": 4,
 "nbformat_minor": 2
}
