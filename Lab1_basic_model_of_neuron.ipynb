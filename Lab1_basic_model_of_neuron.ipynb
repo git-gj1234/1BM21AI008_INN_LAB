{
 "cells": [
  {
   "cell_type": "code",
   "execution_count": 5,
   "metadata": {},
   "outputs": [],
   "source": [
    "import numpy as np "
   ]
  },
  {
   "cell_type": "code",
   "execution_count": 6,
   "metadata": {},
   "outputs": [],
   "source": [
    "class Neuron:\n",
    "    def __init__(self, input_size, activation_function = \"sigmoid\"):\n",
    "        self.weights = np.random.rand(input_size)\n",
    "        self.bias = np.random.rand()\n",
    "\n",
    "        if activation_function == \"sigmoid\":\n",
    "            self.activation_function = self.sigmoid\n",
    "            self.activation_derivative = self.sigmoid_derivative\n",
    "        elif activation_function == \"step\":\n",
    "            self.activation_function = self.step\n",
    "            self.activation_derivative = self.step_derivative\n",
    "        else:\n",
    "            raise ValueError(\"Invalid activation: Choose sigmoid or step.\\n Class instantiation failed\")\n",
    "\n",
    "    def sigmoid(self, x):\n",
    "        return 1/(1 + np.exp(-x))\n",
    "    def sigmoid_derivative(self, x):\n",
    "        return self.sigmoid(x)*(1-self.sigmoid(x))\n",
    "    def step(self, x):\n",
    "        return 1 if x >= 0 else 0\n",
    "    def step_derivative(self, x):\n",
    "        return 0\n",
    "    def forward(self, inputs):\n",
    "        output = np.dot(inputs, self.weights) + self.bias\n",
    "        return output"
   ]
  },
  {
   "cell_type": "code",
   "execution_count": 7,
   "metadata": {},
   "outputs": [
    {
     "name": "stdout",
     "output_type": "stream",
     "text": [
      "input:  [0.15999156 0.8737247  0.04581601]\n",
      "weights:  [0.86723041 0.9180242  0.30900223]\n",
      "bias:  0.3963041981384481\n",
      "output:  1.3513114135233337\n"
     ]
    }
   ],
   "source": [
    "neuron = Neuron(3, \"sigmoid\")\n",
    "inputs = np.random.rand(3)\n",
    "print(\"input: \", inputs)\n",
    "print(\"weights: \", neuron.weights)\n",
    "print(\"bias: \",neuron.bias)\n",
    "output = neuron.forward(inputs)\n",
    "print(\"output: \", output)"
   ]
  }
 ],
 "metadata": {
  "kernelspec": {
   "display_name": "cuda_compute",
   "language": "python",
   "name": "python3"
  },
  "language_info": {
   "codemirror_mode": {
    "name": "ipython",
    "version": 3
   },
   "file_extension": ".py",
   "mimetype": "text/x-python",
   "name": "python",
   "nbconvert_exporter": "python",
   "pygments_lexer": "ipython3",
   "version": "3.9.18"
  }
 },
 "nbformat": 4,
 "nbformat_minor": 2
}
